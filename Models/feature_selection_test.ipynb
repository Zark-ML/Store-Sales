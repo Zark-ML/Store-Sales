{
 "cells": [
  {
   "cell_type": "code",
   "execution_count": 2,
   "id": "e31d13a7-e673-47fc-818e-ab403af05d11",
   "metadata": {},
   "outputs": [],
   "source": [
    "import pandas as pd\n",
    "import numpy as np\n",
    "from sklearn.model_selection import train_test_split\n",
    "from sklearn.metrics import mean_squared_error\n",
    "from sklearn.ensemble import RandomForestRegressor\n",
    "from sklearn.tree import DecisionTreeRegressor\n",
    "import catboost as cb"
   ]
  },
  {
   "cell_type": "code",
   "execution_count": 2,
   "id": "5afdb693-b4af-4c4c-a5a3-c1baf8f408df",
   "metadata": {},
   "outputs": [],
   "source": [
    "data = pd.read_csv(\"data.csv\")"
   ]
  },
  {
   "cell_type": "code",
   "execution_count": 3,
   "id": "17c50777-d1da-4338-8794-93d1d0e270ff",
   "metadata": {},
   "outputs": [
    {
     "data": {
      "text/plain": [
       "0             0.000\n",
       "1             0.000\n",
       "2             0.000\n",
       "3             0.000\n",
       "4             0.000\n",
       "             ...   \n",
       "3032512     438.133\n",
       "3032513     154.553\n",
       "3032514    2419.729\n",
       "3032515     121.000\n",
       "3032516      16.000\n",
       "Name: sales, Length: 3032517, dtype: float64"
      ]
     },
     "execution_count": 3,
     "metadata": {},
     "output_type": "execute_result"
    }
   ],
   "source": [
    "target = data[\"sales\"]\n",
    "target"
   ]
  },
  {
   "cell_type": "code",
   "execution_count": 8,
   "id": "806e2ad7-10a2-4f35-8f05-24f193f22ae7",
   "metadata": {},
   "outputs": [],
   "source": [
    "data = data[['family', 'city', 'state', 'store_type', 'cluster', 'transactions', 'day', 'day_of_week']]\n"
   ]
  },
  {
   "cell_type": "code",
   "execution_count": 9,
   "id": "0427292f-e809-41f1-bf3b-be108ff6c92d",
   "metadata": {},
   "outputs": [
    {
     "name": "stdout",
     "output_type": "stream",
     "text": [
      "Data successfully split into training and testing sets.\n"
     ]
    }
   ],
   "source": [
    "features_train, features_test, target_train, target_test = train_test_split(\n",
    "    data, target, test_size=0.3, random_state=42, shuffle=True\n",
    ")\n",
    "\n",
    "print(\"Data successfully split into training and testing sets.\")"
   ]
  },
  {
   "cell_type": "code",
   "execution_count": 10,
   "id": "6d29bdf9-fe19-45aa-bf91-70d42ccfd78e",
   "metadata": {},
   "outputs": [
    {
     "name": "stdout",
     "output_type": "stream",
     "text": [
      "Random Forest RMSE: 440.51\n"
     ]
    }
   ],
   "source": [
    "model_rf = RandomForestRegressor(n_jobs=-1, n_estimators=100, random_state=42)\n",
    "model_rf.fit(features_train, target_train)\n",
    "\n",
    "predictions_rf = model_rf.predict(features_test)\n",
    "rmse_rf = mean_squared_error(target_test, predictions_rf, squared=False)\n",
    "print(f\"Random Forest RMSE: {rmse_rf:.2f}\")"
   ]
  },
  {
   "cell_type": "code",
   "execution_count": 10,
   "id": "c19b7f79-ae64-42a0-b643-da241fa305f0",
   "metadata": {},
   "outputs": [],
   "source": [
    "from sklearn.preprocessing import MinMaxScaler\n",
    "from sklearn.preprocessing import StandardScaler"
   ]
  },
  {
   "cell_type": "code",
   "execution_count": 14,
   "id": "44f4b2bd-8fc0-4355-a4f6-cf7c7df3dc99",
   "metadata": {},
   "outputs": [
    {
     "name": "stdout",
     "output_type": "stream",
     "text": [
      "Random Forest RMSE: 440.51\n"
     ]
    }
   ],
   "source": [
    "scaler = StandardScaler()\n",
    "data = pd.DataFrame(scaler.fit_transform(data), columns=data.columns)\n",
    "model_rf = RandomForestRegressor(n_jobs=-1, n_estimators=100, random_state=42)\n",
    "model_rf.fit(features_train, target_train)\n",
    "\n",
    "predictions_rf = model_rf.predict(features_test)\n",
    "rmse_rf = mean_squared_error(target_test, predictions_rf, squared=False)\n",
    "print(f\"Random Forest RMSE: {rmse_rf:.2f}\")"
   ]
  },
  {
   "cell_type": "code",
   "execution_count": 17,
   "id": "3e50073f-5054-4ca3-a429-afbe868b56ad",
   "metadata": {},
   "outputs": [
    {
     "name": "stdout",
     "output_type": "stream",
     "text": [
      "Random Forest RMSE: 440.51\n"
     ]
    }
   ],
   "source": [
    "scaler = MinMaxScaler()\n",
    "data = pd.DataFrame(scaler.fit_transform(data), columns=data.columns)\n",
    "model_rf = RandomForestRegressor(n_jobs=-1, n_estimators=100, random_state=42)\n",
    "model_rf.fit(features_train, target_train)\n",
    "\n",
    "predictions_rf = model_rf.predict(features_test)\n",
    "rmse_rf = mean_squared_error(target_test, predictions_rf, squared=False)\n",
    "print(f\"Random Forest RMSE: {rmse_rf:.2f}\")"
   ]
  },
  {
   "cell_type": "code",
   "execution_count": 18,
   "id": "fbab69f2-cef8-45d4-9a45-c6980cf243a3",
   "metadata": {},
   "outputs": [],
   "source": [
    "from sklearn.tree import DecisionTreeRegressor\n",
    "\n"
   ]
  },
  {
   "cell_type": "code",
   "execution_count": 20,
   "id": "a0fe19c7-4406-4abf-8340-786743adf145",
   "metadata": {},
   "outputs": [
    {
     "name": "stdout",
     "output_type": "stream",
     "text": [
      "Decision Tree RMSE: 576.38\n"
     ]
    }
   ],
   "source": [
    "model = DecisionTreeRegressor(random_state=42)\n",
    "model.fit(features_train, target_train)\n",
    "\n",
    "predictions_dt = model.predict(features_test)\n",
    "rmse_dt = mean_squared_error(target_test, predictions_dt, squared=False)\n",
    "print(f\"Decision Tree RMSE: {rmse_dt:.2f}\")\n"
   ]
  },
  {
   "cell_type": "code",
   "execution_count": 22,
   "id": "1c1c8ab3-b4d3-4d53-a682-6928b4544289",
   "metadata": {},
   "outputs": [],
   "source": [
    "data = pd.read_csv(\"data.csv\")\n",
    "target = data[\"sales\"]\n",
    "\n"
   ]
  },
  {
   "cell_type": "code",
   "execution_count": 24,
   "id": "a68f942a-1cc4-4ed5-aca6-feb3ceb909d4",
   "metadata": {},
   "outputs": [],
   "source": [
    "data = data[['family', 'city', 'state', 'store_type',\n",
    "      'cluster', 'transactions','day_of_week']]"
   ]
  },
  {
   "cell_type": "code",
   "execution_count": 25,
   "id": "9bf46de6-cf53-464f-8ed0-14b33b44a6fb",
   "metadata": {},
   "outputs": [
    {
     "name": "stdout",
     "output_type": "stream",
     "text": [
      "Data successfully split into training and testing sets.\n"
     ]
    }
   ],
   "source": [
    "features_train, features_test, target_train, target_test = train_test_split(\n",
    "    data, target, test_size=0.3, random_state=42, shuffle=True\n",
    ")\n",
    "\n",
    "print(\"Data successfully split into training and testing sets.\")"
   ]
  },
  {
   "cell_type": "code",
   "execution_count": 26,
   "id": "dc8c458c-7d4e-4cf2-9576-3f1ac507a3c7",
   "metadata": {},
   "outputs": [
    {
     "name": "stdout",
     "output_type": "stream",
     "text": [
      "Random Forest RMSE: 470.28\n"
     ]
    }
   ],
   "source": [
    "model_rf = RandomForestRegressor(n_jobs=-1, n_estimators=100, random_state=42)\n",
    "model_rf.fit(features_train, target_train)\n",
    "\n",
    "predictions_rf = model_rf.predict(features_test)\n",
    "rmse_rf = mean_squared_error(target_test, predictions_rf, squared=False)\n",
    "print(f\"Random Forest RMSE: {rmse_rf:.2f}\")"
   ]
  },
  {
   "cell_type": "code",
   "execution_count": 6,
   "id": "0fe5f3a3-48a6-48ee-92d9-ecdcaff23853",
   "metadata": {},
   "outputs": [
    {
     "data": {
      "text/html": [
       "<div>\n",
       "<style scoped>\n",
       "    .dataframe tbody tr th:only-of-type {\n",
       "        vertical-align: middle;\n",
       "    }\n",
       "\n",
       "    .dataframe tbody tr th {\n",
       "        vertical-align: top;\n",
       "    }\n",
       "\n",
       "    .dataframe thead th {\n",
       "        text-align: right;\n",
       "    }\n",
       "</style>\n",
       "<table border=\"1\" class=\"dataframe\">\n",
       "  <thead>\n",
       "    <tr style=\"text-align: right;\">\n",
       "      <th></th>\n",
       "      <th>family</th>\n",
       "      <th>onpromotion</th>\n",
       "      <th>city</th>\n",
       "      <th>state</th>\n",
       "      <th>store_type</th>\n",
       "      <th>cluster</th>\n",
       "      <th>transactions</th>\n",
       "      <th>event_type</th>\n",
       "      <th>locale</th>\n",
       "      <th>transferred</th>\n",
       "      <th>dcoilwtico</th>\n",
       "      <th>year</th>\n",
       "      <th>month</th>\n",
       "      <th>day</th>\n",
       "      <th>day_of_week</th>\n",
       "      <th>salary</th>\n",
       "    </tr>\n",
       "  </thead>\n",
       "  <tbody>\n",
       "    <tr>\n",
       "      <th>0</th>\n",
       "      <td>0</td>\n",
       "      <td>0</td>\n",
       "      <td>0</td>\n",
       "      <td>0</td>\n",
       "      <td>4</td>\n",
       "      <td>13</td>\n",
       "      <td>0.0</td>\n",
       "      <td>3</td>\n",
       "      <td>3</td>\n",
       "      <td>False</td>\n",
       "      <td>93.14</td>\n",
       "      <td>2013</td>\n",
       "      <td>1</td>\n",
       "      <td>1</td>\n",
       "      <td>1</td>\n",
       "      <td>False</td>\n",
       "    </tr>\n",
       "    <tr>\n",
       "      <th>1</th>\n",
       "      <td>1</td>\n",
       "      <td>0</td>\n",
       "      <td>0</td>\n",
       "      <td>0</td>\n",
       "      <td>4</td>\n",
       "      <td>13</td>\n",
       "      <td>0.0</td>\n",
       "      <td>3</td>\n",
       "      <td>3</td>\n",
       "      <td>False</td>\n",
       "      <td>93.14</td>\n",
       "      <td>2013</td>\n",
       "      <td>1</td>\n",
       "      <td>1</td>\n",
       "      <td>1</td>\n",
       "      <td>False</td>\n",
       "    </tr>\n",
       "    <tr>\n",
       "      <th>2</th>\n",
       "      <td>2</td>\n",
       "      <td>0</td>\n",
       "      <td>0</td>\n",
       "      <td>0</td>\n",
       "      <td>4</td>\n",
       "      <td>13</td>\n",
       "      <td>0.0</td>\n",
       "      <td>3</td>\n",
       "      <td>3</td>\n",
       "      <td>False</td>\n",
       "      <td>93.14</td>\n",
       "      <td>2013</td>\n",
       "      <td>1</td>\n",
       "      <td>1</td>\n",
       "      <td>1</td>\n",
       "      <td>False</td>\n",
       "    </tr>\n",
       "    <tr>\n",
       "      <th>3</th>\n",
       "      <td>3</td>\n",
       "      <td>0</td>\n",
       "      <td>0</td>\n",
       "      <td>0</td>\n",
       "      <td>4</td>\n",
       "      <td>13</td>\n",
       "      <td>0.0</td>\n",
       "      <td>3</td>\n",
       "      <td>3</td>\n",
       "      <td>False</td>\n",
       "      <td>93.14</td>\n",
       "      <td>2013</td>\n",
       "      <td>1</td>\n",
       "      <td>1</td>\n",
       "      <td>1</td>\n",
       "      <td>False</td>\n",
       "    </tr>\n",
       "    <tr>\n",
       "      <th>4</th>\n",
       "      <td>4</td>\n",
       "      <td>0</td>\n",
       "      <td>0</td>\n",
       "      <td>0</td>\n",
       "      <td>4</td>\n",
       "      <td>13</td>\n",
       "      <td>0.0</td>\n",
       "      <td>3</td>\n",
       "      <td>3</td>\n",
       "      <td>False</td>\n",
       "      <td>93.14</td>\n",
       "      <td>2013</td>\n",
       "      <td>1</td>\n",
       "      <td>1</td>\n",
       "      <td>1</td>\n",
       "      <td>False</td>\n",
       "    </tr>\n",
       "    <tr>\n",
       "      <th>...</th>\n",
       "      <td>...</td>\n",
       "      <td>...</td>\n",
       "      <td>...</td>\n",
       "      <td>...</td>\n",
       "      <td>...</td>\n",
       "      <td>...</td>\n",
       "      <td>...</td>\n",
       "      <td>...</td>\n",
       "      <td>...</td>\n",
       "      <td>...</td>\n",
       "      <td>...</td>\n",
       "      <td>...</td>\n",
       "      <td>...</td>\n",
       "      <td>...</td>\n",
       "      <td>...</td>\n",
       "      <td>...</td>\n",
       "    </tr>\n",
       "    <tr>\n",
       "      <th>3032512</th>\n",
       "      <td>28</td>\n",
       "      <td>0</td>\n",
       "      <td>0</td>\n",
       "      <td>0</td>\n",
       "      <td>2</td>\n",
       "      <td>6</td>\n",
       "      <td>2155.0</td>\n",
       "      <td>3</td>\n",
       "      <td>1</td>\n",
       "      <td>False</td>\n",
       "      <td>47.57</td>\n",
       "      <td>2017</td>\n",
       "      <td>8</td>\n",
       "      <td>15</td>\n",
       "      <td>1</td>\n",
       "      <td>True</td>\n",
       "    </tr>\n",
       "    <tr>\n",
       "      <th>3032513</th>\n",
       "      <td>29</td>\n",
       "      <td>1</td>\n",
       "      <td>0</td>\n",
       "      <td>0</td>\n",
       "      <td>2</td>\n",
       "      <td>6</td>\n",
       "      <td>2155.0</td>\n",
       "      <td>3</td>\n",
       "      <td>1</td>\n",
       "      <td>False</td>\n",
       "      <td>47.57</td>\n",
       "      <td>2017</td>\n",
       "      <td>8</td>\n",
       "      <td>15</td>\n",
       "      <td>1</td>\n",
       "      <td>True</td>\n",
       "    </tr>\n",
       "    <tr>\n",
       "      <th>3032514</th>\n",
       "      <td>30</td>\n",
       "      <td>148</td>\n",
       "      <td>0</td>\n",
       "      <td>0</td>\n",
       "      <td>2</td>\n",
       "      <td>6</td>\n",
       "      <td>2155.0</td>\n",
       "      <td>3</td>\n",
       "      <td>1</td>\n",
       "      <td>False</td>\n",
       "      <td>47.57</td>\n",
       "      <td>2017</td>\n",
       "      <td>8</td>\n",
       "      <td>15</td>\n",
       "      <td>1</td>\n",
       "      <td>True</td>\n",
       "    </tr>\n",
       "    <tr>\n",
       "      <th>3032515</th>\n",
       "      <td>31</td>\n",
       "      <td>8</td>\n",
       "      <td>0</td>\n",
       "      <td>0</td>\n",
       "      <td>2</td>\n",
       "      <td>6</td>\n",
       "      <td>2155.0</td>\n",
       "      <td>3</td>\n",
       "      <td>1</td>\n",
       "      <td>False</td>\n",
       "      <td>47.57</td>\n",
       "      <td>2017</td>\n",
       "      <td>8</td>\n",
       "      <td>15</td>\n",
       "      <td>1</td>\n",
       "      <td>True</td>\n",
       "    </tr>\n",
       "    <tr>\n",
       "      <th>3032516</th>\n",
       "      <td>32</td>\n",
       "      <td>0</td>\n",
       "      <td>0</td>\n",
       "      <td>0</td>\n",
       "      <td>2</td>\n",
       "      <td>6</td>\n",
       "      <td>2155.0</td>\n",
       "      <td>3</td>\n",
       "      <td>1</td>\n",
       "      <td>False</td>\n",
       "      <td>47.57</td>\n",
       "      <td>2017</td>\n",
       "      <td>8</td>\n",
       "      <td>15</td>\n",
       "      <td>1</td>\n",
       "      <td>True</td>\n",
       "    </tr>\n",
       "  </tbody>\n",
       "</table>\n",
       "<p>3032517 rows × 16 columns</p>\n",
       "</div>"
      ],
      "text/plain": [
       "         family  onpromotion  city  state  store_type  cluster  transactions  \\\n",
       "0             0            0     0      0           4       13           0.0   \n",
       "1             1            0     0      0           4       13           0.0   \n",
       "2             2            0     0      0           4       13           0.0   \n",
       "3             3            0     0      0           4       13           0.0   \n",
       "4             4            0     0      0           4       13           0.0   \n",
       "...         ...          ...   ...    ...         ...      ...           ...   \n",
       "3032512      28            0     0      0           2        6        2155.0   \n",
       "3032513      29            1     0      0           2        6        2155.0   \n",
       "3032514      30          148     0      0           2        6        2155.0   \n",
       "3032515      31            8     0      0           2        6        2155.0   \n",
       "3032516      32            0     0      0           2        6        2155.0   \n",
       "\n",
       "         event_type  locale  transferred  dcoilwtico  year  month  day  \\\n",
       "0                 3       3        False       93.14  2013      1    1   \n",
       "1                 3       3        False       93.14  2013      1    1   \n",
       "2                 3       3        False       93.14  2013      1    1   \n",
       "3                 3       3        False       93.14  2013      1    1   \n",
       "4                 3       3        False       93.14  2013      1    1   \n",
       "...             ...     ...          ...         ...   ...    ...  ...   \n",
       "3032512           3       1        False       47.57  2017      8   15   \n",
       "3032513           3       1        False       47.57  2017      8   15   \n",
       "3032514           3       1        False       47.57  2017      8   15   \n",
       "3032515           3       1        False       47.57  2017      8   15   \n",
       "3032516           3       1        False       47.57  2017      8   15   \n",
       "\n",
       "         day_of_week  salary  \n",
       "0                  1   False  \n",
       "1                  1   False  \n",
       "2                  1   False  \n",
       "3                  1   False  \n",
       "4                  1   False  \n",
       "...              ...     ...  \n",
       "3032512            1    True  \n",
       "3032513            1    True  \n",
       "3032514            1    True  \n",
       "3032515            1    True  \n",
       "3032516            1    True  \n",
       "\n",
       "[3032517 rows x 16 columns]"
      ]
     },
     "execution_count": 6,
     "metadata": {},
     "output_type": "execute_result"
    }
   ],
   "source": [
    "data = pd.read_csv(\"data.csv\")\n",
    "target = data[\"sales\"]\n",
    "data = data.drop(columns = [\"sales\",\"date\"])\n",
    "data\n"
   ]
  },
  {
   "cell_type": "code",
   "execution_count": 7,
   "id": "e3760819-aa14-4159-a03c-47a325df4ee7",
   "metadata": {},
   "outputs": [
    {
     "name": "stdout",
     "output_type": "stream",
     "text": [
      "Data successfully split into training and testing sets.\n"
     ]
    }
   ],
   "source": [
    "features_train, features_test, target_train, target_test = train_test_split(\n",
    "    data, target, test_size=0.3, random_state=42, shuffle=True\n",
    ")\n",
    "\n",
    "print(\"Data successfully split into training and testing sets.\")"
   ]
  },
  {
   "cell_type": "code",
   "execution_count": null,
   "id": "9cbc263f-2382-42db-90a9-7852f9965a13",
   "metadata": {},
   "outputs": [],
   "source": []
  },
  {
   "cell_type": "code",
   "execution_count": 8,
   "id": "c04ec7ad-b89f-490a-b7bd-523677131588",
   "metadata": {},
   "outputs": [
    {
     "name": "stdout",
     "output_type": "stream",
     "text": [
      "Random Forest RMSE: 233.45\n"
     ]
    }
   ],
   "source": [
    "model_rf = RandomForestRegressor(n_jobs=-1, n_estimators=100, random_state=42)\n",
    "model_rf.fit(features_train, target_train)\n",
    "\n",
    "predictions_rf = model_rf.predict(features_test)\n",
    "rmse_rf = mean_squared_error(target_test, predictions_rf, squared=False)\n",
    "print(f\"Random Forest RMSE: {rmse_rf:.2f}\")"
   ]
  },
  {
   "cell_type": "code",
   "execution_count": 11,
   "id": "3bdd179a-0091-4907-9d33-a384413a8ca0",
   "metadata": {},
   "outputs": [
    {
     "name": "stdout",
     "output_type": "stream",
     "text": [
      "Random Forest RMSE: 233.45\n"
     ]
    }
   ],
   "source": [
    "scaler = StandardScaler()\n",
    "data = pd.DataFrame(scaler.fit_transform(data), columns=data.columns)\n",
    "model_rf = RandomForestRegressor(n_jobs=-1, n_estimators=100, random_state=42)\n",
    "model_rf.fit(features_train, target_train)\n",
    "\n",
    "predictions_rf = model_rf.predict(features_test)\n",
    "rmse_rf = mean_squared_error(target_test, predictions_rf, squared=False)\n",
    "print(f\"Random Forest RMSE: {rmse_rf:.2f}\")"
   ]
  },
  {
   "cell_type": "code",
   "execution_count": 3,
   "id": "340a9ed6-b744-41f9-92c5-642195119983",
   "metadata": {},
   "outputs": [],
   "source": [
    "data = pd.read_csv(\"data.csv\")"
   ]
  },
  {
   "cell_type": "code",
   "execution_count": 4,
   "id": "2f024318-b4ec-494f-9931-2115128b2429",
   "metadata": {},
   "outputs": [],
   "source": [
    "target = data[\"sales\"]\n",
    "data = data[['family', 'city', 'state', 'store_type', 'cluster', 'transactions', 'day', 'day_of_week']]"
   ]
  },
  {
   "cell_type": "code",
   "execution_count": 10,
   "id": "1fcb4fe6-138f-4f40-9813-096f5bb8e73b",
   "metadata": {},
   "outputs": [],
   "source": [
    "from sklearn.model_selection import cross_val_score\n",
    "model_rf = RandomForestRegressor(n_jobs=-1, n_estimators=100, random_state=42)\n"
   ]
  },
  {
   "cell_type": "code",
   "execution_count": 11,
   "id": "33e66cb0-bae2-46b5-b57b-c6c98b453f36",
   "metadata": {},
   "outputs": [
    {
     "name": "stdout",
     "output_type": "stream",
     "text": [
      "[0.4010817         nan 0.83792211 0.8213203  0.85531959]\n"
     ]
    },
    {
     "name": "stderr",
     "output_type": "stream",
     "text": [
      "C:\\Users\\User\\anaconda3\\Lib\\site-packages\\sklearn\\model_selection\\_validation.py:378: FitFailedWarning: \n",
      "1 fits failed out of a total of 5.\n",
      "The score on these train-test partitions for these parameters will be set to nan.\n",
      "If these failures are not expected, you can try to debug them by setting error_score='raise'.\n",
      "\n",
      "Below are more details about the failures:\n",
      "--------------------------------------------------------------------------------\n",
      "1 fits failed with the following error:\n",
      "joblib.externals.loky.process_executor._RemoteTraceback: \n",
      "\"\"\"\n",
      "Traceback (most recent call last):\n",
      "  File \"C:\\Users\\User\\anaconda3\\Lib\\site-packages\\joblib\\externals\\loky\\process_executor.py\", line 343, in _sendback_result\n",
      "    result_queue.put(_ResultItem(work_id, result=result,\n",
      "  File \"C:\\Users\\User\\anaconda3\\Lib\\site-packages\\joblib\\externals\\loky\\backend\\queues.py\", line 189, in put\n",
      "    self._writer.send_bytes(obj)\n",
      "  File \"C:\\Users\\User\\anaconda3\\Lib\\multiprocessing\\connection.py\", line 200, in send_bytes\n",
      "    self._send_bytes(m[offset:offset + size])\n",
      "  File \"C:\\Users\\User\\anaconda3\\Lib\\multiprocessing\\connection.py\", line 289, in _send_bytes\n",
      "    ov, err = _winapi.WriteFile(self._handle, buf, overlapped=True)\n",
      "              ^^^^^^^^^^^^^^^^^^^^^^^^^^^^^^^^^^^^^^^^^^^^^^^^^^^^^\n",
      "OSError: [WinError 1450] Недостаточно системных ресурсов для завершения операции\n",
      "\"\"\"\n",
      "\n",
      "The above exception was the direct cause of the following exception:\n",
      "\n",
      "Traceback (most recent call last):\n",
      "  File \"C:\\Users\\User\\anaconda3\\Lib\\site-packages\\sklearn\\model_selection\\_validation.py\", line 686, in _fit_and_score\n",
      "    estimator.fit(X_train, y_train, **fit_params)\n",
      "  File \"C:\\Users\\User\\anaconda3\\Lib\\site-packages\\sklearn\\ensemble\\_forest.py\", line 473, in fit\n",
      "    trees = Parallel(\n",
      "            ^^^^^^^^^\n",
      "  File \"C:\\Users\\User\\anaconda3\\Lib\\site-packages\\sklearn\\utils\\parallel.py\", line 63, in __call__\n",
      "    return super().__call__(iterable_with_config)\n",
      "           ^^^^^^^^^^^^^^^^^^^^^^^^^^^^^^^^^^^^^^\n",
      "  File \"C:\\Users\\User\\anaconda3\\Lib\\site-packages\\joblib\\parallel.py\", line 1098, in __call__\n",
      "    self.retrieve()\n",
      "  File \"C:\\Users\\User\\anaconda3\\Lib\\site-packages\\joblib\\parallel.py\", line 975, in retrieve\n",
      "    self._output.extend(job.get(timeout=self.timeout))\n",
      "                        ^^^^^^^^^^^^^^^^^^^^^^^^^^^^^\n",
      "  File \"C:\\Users\\User\\anaconda3\\Lib\\site-packages\\joblib\\_parallel_backends.py\", line 567, in wrap_future_result\n",
      "    return future.result(timeout=timeout)\n",
      "           ^^^^^^^^^^^^^^^^^^^^^^^^^^^^^^\n",
      "  File \"C:\\Users\\User\\anaconda3\\Lib\\concurrent\\futures\\_base.py\", line 456, in result\n",
      "    return self.__get_result()\n",
      "           ^^^^^^^^^^^^^^^^^^^\n",
      "  File \"C:\\Users\\User\\anaconda3\\Lib\\concurrent\\futures\\_base.py\", line 401, in __get_result\n",
      "    raise self._exception\n",
      "OSError: [WinError 1450] Недостаточно системных ресурсов для завершения операции\n",
      "\n",
      "  warnings.warn(some_fits_failed_message, FitFailedWarning)\n"
     ]
    }
   ],
   "source": [
    "\n",
    "model_rf = RandomForestRegressor(n_jobs=-1, n_estimators=100, random_state=42)\n",
    "print(cross_val_score(model_rf, data, target, cv=5))"
   ]
  },
  {
   "cell_type": "code",
   "execution_count": 12,
   "id": "a741cd4b-caee-4900-90d2-d50e9b22e9bd",
   "metadata": {},
   "outputs": [
    {
     "name": "stdout",
     "output_type": "stream",
     "text": [
      "[-1.7004417  -1.27621092 -0.77792419 -0.75828963]\n"
     ]
    }
   ],
   "source": [
    "import numpy as np\n",
    "from sklearn.metrics import make_scorer\n",
    "from sklearn.model_selection import cross_val_score\n",
    "\n",
    "def rmsle(y_true, y_pred):\n",
    "    return np.sqrt(np.mean((np.log1p(y_true) - np.log1p(y_pred)) ** 2))\n",
    "\n",
    "\n",
    "rmsle_scorer = make_scorer(rmsle, greater_is_better=False)\n",
    "\n",
    "\n",
    "scores = cross_val_score(model_rf, data, target, cv=4, scoring=rmsle_scorer)\n",
    "print(scores)\n"
   ]
  },
  {
   "cell_type": "code",
   "execution_count": 13,
   "id": "a65b3f50-f265-4bda-b5e4-3f197a6756e7",
   "metadata": {},
   "outputs": [
    {
     "name": "stdout",
     "output_type": "stream",
     "text": [
      "[1.73507923 1.26579099 1.11001864 0.71840047 0.67369835]\n"
     ]
    }
   ],
   "source": [
    "rmsle_scorer = make_scorer(rmsle, greater_is_better=True)\n",
    "scores = cross_val_score(model_rf, data, target, cv=5, scoring=rmsle_scorer)\n",
    "print(scores)\n"
   ]
  },
  {
   "cell_type": "code",
   "execution_count": 15,
   "id": "d78e694c-f9a7-4bcc-8c9d-d1916dfb8a9a",
   "metadata": {},
   "outputs": [
    {
     "name": "stdout",
     "output_type": "stream",
     "text": [
      "[1.32526016 1.08024645 1.18283261 0.94728469 0.59331761]\n"
     ]
    }
   ],
   "source": [
    "data = pd.read_csv(\"data.csv\")\n",
    "target = data[\"sales\"]\n",
    "data = data.drop(columns = [\"sales\",\"date\"])\n",
    "rmsle_scorer = make_scorer(rmsle, greater_is_better=True)\n",
    "scores = cross_val_score(model_rf, data, target, cv=5, scoring=rmsle_scorer)\n",
    "print(scores)\n",
    "                   "
   ]
  },
  {
   "cell_type": "code",
   "execution_count": 20,
   "id": "f07331eb-6a2e-4385-8e1a-ef7323973600",
   "metadata": {},
   "outputs": [
    {
     "name": "stdout",
     "output_type": "stream",
     "text": [
      "1.100597536\n"
     ]
    }
   ],
   "source": [
    "l = [1.73507923, 1.26579099, 1.11001864, 0.71840047, 0.67369835]\n",
    "m = np.mean(l)\n",
    "print(m)"
   ]
  },
  {
   "cell_type": "code",
   "execution_count": null,
   "id": "edf1749a-282d-499b-8810-b5d9ca32fbf0",
   "metadata": {},
   "outputs": [],
   "source": []
  }
 ],
 "metadata": {
  "kernelspec": {
   "display_name": "Python 3 (ipykernel)",
   "language": "python",
   "name": "python3"
  },
  "language_info": {
   "codemirror_mode": {
    "name": "ipython",
    "version": 3
   },
   "file_extension": ".py",
   "mimetype": "text/x-python",
   "name": "python",
   "nbconvert_exporter": "python",
   "pygments_lexer": "ipython3",
   "version": "3.11.7"
  }
 },
 "nbformat": 4,
 "nbformat_minor": 5
}
